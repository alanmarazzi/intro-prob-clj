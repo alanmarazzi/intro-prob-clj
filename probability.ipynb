{
 "cells": [
  {
   "cell_type": "markdown",
   "metadata": {},
   "source": [
    "# Probability\n",
    "\n",
    "An intro to **probability** in Clojure\n",
    "\n",
    "## `P` function\n",
    "\n",
    "`P` is the name for the *Probability* function"
   ]
  },
  {
   "cell_type": "code",
   "execution_count": 1,
   "metadata": {},
   "outputs": [],
   "source": [
    "(ns probability\n",
    "  (:require [clojure.math.combinatorics :as combinatorics]))"
   ]
  },
  {
   "cell_type": "code",
   "execution_count": 2,
   "metadata": {},
   "outputs": [
    {
     "data": {
      "text/plain": [
       "#'probability/P"
      ]
     },
     "execution_count": 2,
     "metadata": {},
     "output_type": "execute_result"
    }
   ],
   "source": [
    "(defn P\n",
    "  \"Probability of an event occurring\"\n",
    "  [event space]\n",
    "  (/ (count (filter (set event) space))\n",
    "     (count space)))"
   ]
  },
  {
   "cell_type": "code",
   "execution_count": 3,
   "metadata": {},
   "outputs": [
    {
     "data": {
      "text/plain": [
       "#'probability/even"
      ]
     },
     "execution_count": 3,
     "metadata": {},
     "output_type": "execute_result"
    }
   ],
   "source": [
    "(def D [1 2 3 4 5 6])\n",
    "(def even [2 4 6])"
   ]
  },
  {
   "cell_type": "code",
   "execution_count": 4,
   "metadata": {},
   "outputs": [
    {
     "data": {
      "text/plain": [
       "1/2"
      ]
     },
     "execution_count": 4,
     "metadata": {},
     "output_type": "execute_result"
    }
   ],
   "source": [
    "(P even D)"
   ]
  },
  {
   "cell_type": "markdown",
   "metadata": {},
   "source": [
    "We might have done `(/ (count event) (count space))`, but in this way we would have counted stuff not present in the event space."
   ]
  },
  {
   "cell_type": "code",
   "execution_count": 5,
   "metadata": {},
   "outputs": [
    {
     "data": {
      "text/plain": [
       "1/2"
      ]
     },
     "execution_count": 5,
     "metadata": {},
     "output_type": "execute_result"
    }
   ],
   "source": [
    "(def even [2 4 6 8 10 12])\n",
    "\n",
    "(P even D)"
   ]
  },
  {
   "cell_type": "markdown",
   "metadata": {},
   "source": [
    "## Urn problems\n",
    "\n",
    "Usually urns are used to explain probability. Let's take this problem as an example:\n",
    "\n",
    "> An urn contains 23 balls: 8 white, 6 blue, and 9 red. We select six balls at random (each possible selection is equally likely). What is the probability of each of these possible outcomes:\n",
    "1. all balls are red\n",
    "2. 3 are blue, 2 are white, and 1 is red\n",
    "3. exactly 4 balls are white\n",
    "\n",
    "Here an *outcome* is a set of 6 balls and the *sample space* is the set of all possible 6 ball combinations. We can solve this problem with our `P` function and *counting*.\n",
    "\n",
    "Note that an outcome is a *set* of balls, not a *sequence*, so the order doesn't matter. To account for the fact that we have more than one ball of the same color, we will represent them with the initial followed by a number, such as: `W1`"
   ]
  },
  {
   "cell_type": "code",
   "execution_count": 6,
   "metadata": {},
   "outputs": [
    {
     "data": {
      "text/plain": [
       "#'probability/cross"
      ]
     },
     "execution_count": 6,
     "metadata": {},
     "output_type": "execute_result"
    }
   ],
   "source": [
    "(defn cross\n",
    "  \"Create a set of ways of concatenating\n",
    "  items from A with items from B\"\n",
    "  [A B]\n",
    "  (set (map #(str A %) B)))"
   ]
  },
  {
   "cell_type": "code",
   "execution_count": 7,
   "metadata": {},
   "outputs": [
    {
     "data": {
      "text/plain": [
       "#'probability/balls"
      ]
     },
     "execution_count": 7,
     "metadata": {},
     "output_type": "execute_result"
    }
   ],
   "source": [
    "(def balls [{:A \"W\" :B (range 1 9)}\n",
    "            {:A \"B\" :B (range 1 7)}\n",
    "            {:A \"R\" :B (range 1 10)}])"
   ]
  },
  {
   "cell_type": "code",
   "execution_count": 8,
   "metadata": {},
   "outputs": [
    {
     "data": {
      "text/plain": [
       "#'probability/urn"
      ]
     },
     "execution_count": 8,
     "metadata": {},
     "output_type": "execute_result"
    }
   ],
   "source": [
    "(def urn (mapcat #(cross (:A %) (:B %)) balls))"
   ]
  },
  {
   "cell_type": "code",
   "execution_count": 9,
   "metadata": {},
   "outputs": [
    {
     "data": {
      "text/plain": [
       "23"
      ]
     },
     "execution_count": 9,
     "metadata": {},
     "output_type": "execute_result"
    }
   ],
   "source": [
    "(count urn)"
   ]
  },
  {
   "cell_type": "markdown",
   "metadata": {},
   "source": [
    "By using `clojure.math.combinatorics` (here required in the `ns` declaration in the first cell as `combinatorics`) we can create the sample space as the set of all 6 balls combinations."
   ]
  },
  {
   "cell_type": "code",
   "execution_count": 10,
   "metadata": {},
   "outputs": [
    {
     "data": {
      "text/plain": [
       "#'probability/combos"
      ]
     },
     "execution_count": 10,
     "metadata": {},
     "output_type": "execute_result"
    }
   ],
   "source": [
    "(defn combos\n",
    "  \"All combinations of n items, each one concatenated\n",
    "  with str\"\n",
    "  [items n]\n",
    "  (let [combi (combinatorics/combinations items n)]\n",
    "    (map #(clojure.string/join \" \" %) combi)))"
   ]
  },
  {
   "cell_type": "code",
   "execution_count": 11,
   "metadata": {},
   "outputs": [
    {
     "data": {
      "text/plain": [
       "100947"
      ]
     },
     "execution_count": 11,
     "metadata": {},
     "output_type": "execute_result"
    }
   ],
   "source": [
    "(def U6 (combos urn 6))\n",
    "\n",
    "(count U6)"
   ]
  },
  {
   "cell_type": "code",
   "execution_count": 12,
   "metadata": {},
   "outputs": [
    {
     "name": "stdout",
     "output_type": "stream",
     "text": [
      "(\"W3 W7 W6 W1 W8 W5\"\n",
      " \"W3 W7 W6 W1 W8 W2\"\n",
      " \"W3 W7 W6 W1 W8 B6\"\n",
      " \"W3 W7 W6 W1 W8 R4\"\n",
      " \"W3 W7 W6 W1 W8 R8\"\n",
      " \"W3 W7 W6 W1 W8 R6\"\n",
      " \"W3 W7 W6 W1 W8 R2\"\n",
      " \"W3 W7 W6 W1 W8 R9\"\n",
      " \"W3 W7 W6 W1 W8 R1\"\n",
      " \"W3 W7 W6 W1 W5 W2\")\n"
     ]
    }
   ],
   "source": [
    "(clojure.pprint/pprint (take 10 (random-sample 0.5 U6)))"
   ]
  },
  {
   "cell_type": "markdown",
   "metadata": {},
   "source": [
    "To check if it is true that 100,947 is the right number of possible combinations we can build a function that calculates it"
   ]
  },
  {
   "cell_type": "code",
   "execution_count": 13,
   "metadata": {},
   "outputs": [
    {
     "data": {
      "text/plain": [
       "#'probability/choose"
      ]
     },
     "execution_count": 13,
     "metadata": {},
     "output_type": "execute_result"
    }
   ],
   "source": [
    "(defn ! [n]\n",
    "  (loop [cur n \n",
    "         acc 1]\n",
    "    (if (zero? cur) acc\n",
    "      (recur (dec cur) (*' cur acc)))))\n",
    "\n",
    "(defn choose\n",
    "  \"Number of ways to choose c items from\n",
    "  a list of n items\"\n",
    "  [n c]\n",
    "  (int (/ (! n) \n",
    "          (* (! (- n c)) (! c)))))"
   ]
  },
  {
   "cell_type": "code",
   "execution_count": 14,
   "metadata": {},
   "outputs": [
    {
     "data": {
      "text/plain": [
       "100947"
      ]
     },
     "execution_count": 14,
     "metadata": {},
     "output_type": "execute_result"
    }
   ],
   "source": [
    "(choose 23 6)"
   ]
  },
  {
   "cell_type": "markdown",
   "metadata": {},
   "source": [
    "### Problem 1: what's the probability of selecting 6 red balls?"
   ]
  },
  {
   "cell_type": "code",
   "execution_count": 15,
   "metadata": {},
   "outputs": [
    {
     "data": {
      "text/plain": [
       "#'probability/red6"
      ]
     },
     "execution_count": 15,
     "metadata": {},
     "output_type": "execute_result"
    }
   ],
   "source": [
    "(defn count-color\n",
    "  [string color]\n",
    "  (->> string\n",
    "       (re-seq (re-pattern color))\n",
    "       count))\n",
    "\n",
    "(defn draw\n",
    "  [urn color n]\n",
    "  (filter \n",
    "    #(= (count-color % color) n) \n",
    "    urn))\n",
    "\n",
    "(def red6 (draw U6 \"R\" 6))"
   ]
  },
  {
   "cell_type": "code",
   "execution_count": 16,
   "metadata": {},
   "outputs": [
    {
     "data": {
      "text/plain": [
       "4/4807"
      ]
     },
     "execution_count": 16,
     "metadata": {},
     "output_type": "execute_result"
    }
   ],
   "source": [
    "(P red6 U6)"
   ]
  },
  {
   "cell_type": "code",
   "execution_count": 17,
   "metadata": {},
   "outputs": [
    {
     "data": {
      "text/plain": [
       "84"
      ]
     },
     "execution_count": 17,
     "metadata": {},
     "output_type": "execute_result"
    }
   ],
   "source": [
    "(count red6)"
   ]
  },
  {
   "cell_type": "code",
   "execution_count": 18,
   "metadata": {},
   "outputs": [
    {
     "data": {
      "text/plain": [
       "84"
      ]
     },
     "execution_count": 18,
     "metadata": {},
     "output_type": "execute_result"
    }
   ],
   "source": [
    "(choose 9 6)"
   ]
  },
  {
   "cell_type": "markdown",
   "metadata": {},
   "source": [
    "As we saw there are **84** different ways of drawing 6 red balls. Since there are 9 red balls in the urn, we are asking `(choose 9 6)` basically. This means that **P** of 6 red balls is 9 choose 6 divided by the size of the sample space."
   ]
  },
  {
   "cell_type": "code",
   "execution_count": 19,
   "metadata": {},
   "outputs": [
    {
     "data": {
      "text/plain": [
       "true"
      ]
     },
     "execution_count": 19,
     "metadata": {},
     "output_type": "execute_result"
    }
   ],
   "source": [
    "(= (P red6 U6)\n",
    "   (/ (choose 9 6)\n",
    "      (count U6)))"
   ]
  },
  {
   "cell_type": "markdown",
   "metadata": {},
   "source": [
    "### Problem 2: what is the probability of 3 blue, 2 white and 1 red?"
   ]
  },
  {
   "cell_type": "code",
   "execution_count": 20,
   "metadata": {},
   "outputs": [
    {
     "data": {
      "text/plain": [
       "#'probability/draw"
      ]
     },
     "execution_count": 20,
     "metadata": {},
     "output_type": "execute_result"
    }
   ],
   "source": [
    "(defn draw\n",
    "  [urn colors n]\n",
    "  (let [count-colors (fn [s c]\n",
    "                       (map #(count-color s %) c))\n",
    "        right-draw? (fn [s c n]\n",
    "                      (= (count-colors s c)\n",
    "                         n))]\n",
    "    (filter #(right-draw? % colors n) urn)))"
   ]
  },
  {
   "cell_type": "code",
   "execution_count": 21,
   "metadata": {},
   "outputs": [
    {
     "data": {
      "text/plain": [
       "240/4807"
      ]
     },
     "execution_count": 21,
     "metadata": {},
     "output_type": "execute_result"
    }
   ],
   "source": [
    "(def b3w2r1 (draw U6 [\"B\" \"W\" \"R\"] [3 2 1]))\n",
    "\n",
    "(P b3w2r1 U6)"
   ]
  },
  {
   "cell_type": "code",
   "execution_count": 22,
   "metadata": {},
   "outputs": [
    {
     "data": {
      "text/plain": [
       "true"
      ]
     },
     "execution_count": 22,
     "metadata": {},
     "output_type": "execute_result"
    }
   ],
   "source": [
    "(= (P b3w2r1 U6)\n",
    "   (/ (* (choose 6 3)\n",
    "         (choose 8 2)\n",
    "         (choose 9 1))\n",
    "      (count U6)))"
   ]
  },
  {
   "cell_type": "markdown",
   "metadata": {},
   "source": [
    "### Problem 3: what is the probability of drawing 4 white balls?"
   ]
  },
  {
   "cell_type": "code",
   "execution_count": 23,
   "metadata": {},
   "outputs": [
    {
     "data": {
      "text/plain": [
       "350/4807"
      ]
     },
     "execution_count": 23,
     "metadata": {},
     "output_type": "execute_result"
    }
   ],
   "source": [
    "(def w4 (draw U6 [\"W\"] [4]))\n",
    "\n",
    "(P w4 U6)"
   ]
  },
  {
   "cell_type": "markdown",
   "metadata": {},
   "source": [
    "## Generalizing `P`"
   ]
  },
  {
   "cell_type": "code",
   "execution_count": 24,
   "metadata": {},
   "outputs": [
    {
     "data": {
      "text/plain": [
       "#'probability/P"
      ]
     },
     "execution_count": 24,
     "metadata": {},
     "output_type": "execute_result"
    }
   ],
   "source": [
    "(defn P\n",
    "  [event space]\n",
    "  (let [e (if (fn? event)\n",
    "            (filter event space)\n",
    "            (filter (set event) space))]\n",
    "    (/ (count e)\n",
    "       (count space))))"
   ]
  },
  {
   "cell_type": "code",
   "execution_count": 25,
   "metadata": {},
   "outputs": [
    {
     "data": {
      "text/plain": [
       "1/2"
      ]
     },
     "execution_count": 25,
     "metadata": {},
     "output_type": "execute_result"
    }
   ],
   "source": [
    "(P even? D)"
   ]
  },
  {
   "cell_type": "code",
   "execution_count": 26,
   "metadata": {},
   "outputs": [
    {
     "data": {
      "text/plain": [
       "1/2"
      ]
     },
     "execution_count": 26,
     "metadata": {},
     "output_type": "execute_result"
    }
   ],
   "source": [
    "(def D12 (range 1 13))\n",
    "\n",
    "(P even? D12)"
   ]
  },
  {
   "cell_type": "code",
   "execution_count": 27,
   "metadata": {},
   "outputs": [
    {
     "data": {
      "text/plain": [
       "#'probability/prime?"
      ]
     },
     "execution_count": 27,
     "metadata": {},
     "output_type": "execute_result"
    }
   ],
   "source": [
    "(defn divisible? \n",
    "  [a b]\n",
    "  (zero? (mod a b)))\n",
    "\n",
    "(defn prime? \n",
    "  [n]\n",
    "  (and (> n 1) (not-any? (partial divisible? n) (range 2 n))))"
   ]
  },
  {
   "cell_type": "code",
   "execution_count": 28,
   "metadata": {},
   "outputs": [
    {
     "data": {
      "text/plain": [
       "#'probability/D3"
      ]
     },
     "execution_count": 28,
     "metadata": {},
     "output_type": "execute_result"
    }
   ],
   "source": [
    "(def D3 \n",
    "  (->> (for [a D\n",
    "             b D\n",
    "             c D]\n",
    "         [a b c])\n",
    "       (map #(reduce + %))))"
   ]
  },
  {
   "cell_type": "code",
   "execution_count": 29,
   "metadata": {},
   "outputs": [
    {
     "data": {
      "text/plain": [
       "73/216"
      ]
     },
     "execution_count": 29,
     "metadata": {},
     "output_type": "execute_result"
    }
   ],
   "source": [
    "(P prime? D3)"
   ]
  },
  {
   "cell_type": "markdown",
   "metadata": {},
   "source": [
    "## Card Problems\n",
    "\n",
    "Let's play some Poker! We define a `deck` as a set of 52 cards, and `hands` as the sample space of all combinations of 5 cards:"
   ]
  },
  {
   "cell_type": "code",
   "execution_count": 30,
   "metadata": {},
   "outputs": [
    {
     "data": {
      "text/plain": [
       "#'probability/suits&ranks"
      ]
     },
     "execution_count": 30,
     "metadata": {},
     "output_type": "execute_result"
    }
   ],
   "source": [
    "(def ranks (clojure.string/split \"A23456789TJQK\" #\"\"))\n",
    "\n",
    "(def suits&ranks\n",
    "  [{:A \"S\" :B ranks}\n",
    "   {:A \"H\" :B ranks}\n",
    "   {:A \"D\" :B ranks}\n",
    "   {:A \"C\" :B ranks}])"
   ]
  },
  {
   "cell_type": "code",
   "execution_count": 31,
   "metadata": {},
   "outputs": [
    {
     "data": {
      "text/plain": [
       "#'probability/deck"
      ]
     },
     "execution_count": 31,
     "metadata": {},
     "output_type": "execute_result"
    }
   ],
   "source": [
    "(def deck (atom \n",
    "            (mapcat #(cross (:A %) (:B %)) suits&ranks)))"
   ]
  },
  {
   "cell_type": "code",
   "execution_count": 32,
   "metadata": {},
   "outputs": [
    {
     "data": {
      "text/plain": [
       "52"
      ]
     },
     "execution_count": 32,
     "metadata": {},
     "output_type": "execute_result"
    }
   ],
   "source": [
    "(count @deck)"
   ]
  },
  {
   "cell_type": "code",
   "execution_count": 33,
   "metadata": {},
   "outputs": [
    {
     "data": {
      "text/plain": [
       "#'probability/hands"
      ]
     },
     "execution_count": 33,
     "metadata": {},
     "output_type": "execute_result"
    }
   ],
   "source": [
    "(def hands (atom (combos @deck 5)))"
   ]
  },
  {
   "cell_type": "code",
   "execution_count": 34,
   "metadata": {},
   "outputs": [
    {
     "data": {
      "text/plain": [
       "true"
      ]
     },
     "execution_count": 34,
     "metadata": {},
     "output_type": "execute_result"
    }
   ],
   "source": [
    "(= (count @hands)\n",
    "   (choose 52 5))"
   ]
  },
  {
   "cell_type": "code",
   "execution_count": 35,
   "metadata": {},
   "outputs": [
    {
     "data": {
      "text/plain": [
       "2598960"
      ]
     },
     "execution_count": 35,
     "metadata": {},
     "output_type": "execute_result"
    }
   ],
   "source": [
    "(count @hands)"
   ]
  },
  {
   "cell_type": "code",
   "execution_count": 36,
   "metadata": {},
   "outputs": [
    {
     "name": "stdout",
     "output_type": "stream",
     "text": [
      "(\"S9 S6 S2 S5 SA\"\n",
      " \"S9 S6 S2 S5 SJ\"\n",
      " \"S9 S6 S2 S5 SQ\"\n",
      " \"S9 S6 S2 S5 S4\"\n",
      " \"S9 S6 S2 S5 H9\"\n",
      " \"S9 S6 S2 S5 HQ\"\n",
      " \"S9 S6 S2 S5 H6\"\n",
      " \"S9 S6 S2 S5 H8\"\n",
      " \"S9 S6 S2 S5 H4\"\n",
      " \"S9 S6 S2 S5 HA\")\n"
     ]
    }
   ],
   "source": [
    "(clojure.pprint/pprint \n",
    "  (take 10 (random-sample 0.5 @hands)))"
   ]
  },
  {
   "cell_type": "code",
   "execution_count": 37,
   "metadata": {},
   "outputs": [
    {
     "data": {
      "text/plain": [
       "#'probability/flush?"
      ]
     },
     "execution_count": 37,
     "metadata": {},
     "output_type": "execute_result"
    }
   ],
   "source": [
    "(defn flush?\n",
    "  [hand]\n",
    "  (let [suits (map :A suits&ranks)]\n",
    "    (some true?\n",
    "          (map #(= (count-color hand %) 5) suits))))"
   ]
  },
  {
   "cell_type": "code",
   "execution_count": 38,
   "metadata": {},
   "outputs": [
    {
     "data": {
      "text/plain": [
       "33/16660"
      ]
     },
     "execution_count": 38,
     "metadata": {},
     "output_type": "execute_result"
    }
   ],
   "source": [
    "(P flush? @hands)"
   ]
  },
  {
   "cell_type": "code",
   "execution_count": 39,
   "metadata": {},
   "outputs": [
    {
     "data": {
      "text/plain": [
       "#'probability/four-kind?"
      ]
     },
     "execution_count": 39,
     "metadata": {},
     "output_type": "execute_result"
    }
   ],
   "source": [
    "(defn four-kind?\n",
    "  [hand]\n",
    "  (some true?\n",
    "        (map #(= (count-color hand %) 4) ranks)))"
   ]
  },
  {
   "cell_type": "code",
   "execution_count": 40,
   "metadata": {},
   "outputs": [
    {
     "data": {
      "text/plain": [
       "1/4165"
      ]
     },
     "execution_count": 40,
     "metadata": {},
     "output_type": "execute_result"
    }
   ],
   "source": [
    "(P four-kind? @hands)"
   ]
  },
  {
   "cell_type": "markdown",
   "metadata": {},
   "source": [
    "## Gambling, Triangles and the birth of Probability"
   ]
  },
  {
   "cell_type": "code",
   "execution_count": 41,
   "metadata": {},
   "outputs": [
    {
     "data": {
      "text/plain": [
       "#'probability/continuations"
      ]
     },
     "execution_count": 41,
     "metadata": {},
     "output_type": "execute_result"
    }
   ],
   "source": [
    "(defn continuations\n",
    "  [H T]\n",
    "  (let [rounds (map #(clojure.string/split % #\"\") (repeat (- (+ H T) 1) \"ht\"))]\n",
    "    (apply combinatorics/cartesian-product rounds)))"
   ]
  },
  {
   "cell_type": "code",
   "execution_count": 52,
   "metadata": {},
   "outputs": [
    {
     "data": {
      "text/plain": [
       "#'probability/win-probability"
      ]
     },
     "execution_count": 52,
     "metadata": {},
     "output_type": "execute_result"
    }
   ],
   "source": [
    "(defn win-probability\n",
    "  [H T]\n",
    "  (let [hwins (fn [out]\n",
    "                (>= (count\n",
    "                      (filter\n",
    "                        #(= \"h\" %) out)) H))]\n",
    "   (P hwins (continuations H T))))"
   ]
  },
  {
   "cell_type": "code",
   "execution_count": 53,
   "metadata": {},
   "outputs": [
    {
     "data": {
      "text/plain": [
       "((\"h\" \"h\" \"h\" \"h\") (\"h\" \"h\" \"h\" \"t\") (\"h\" \"h\" \"t\" \"h\") (\"h\" \"h\" \"t\" \"t\") (\"h\" \"t\" \"h\" \"h\") (\"h\" \"t\" \"h\" \"t\") (\"h\" \"t\" \"t\" \"h\") (\"h\" \"t\" \"t\" \"t\") (\"t\" \"h\" \"h\" \"h\") (\"t\" \"h\" \"h\" \"t\") (\"t\" \"h\" \"t\" \"h\") (\"t\" \"h\" \"t\" \"t\") (\"t\" \"t\" \"h\" \"h\") (\"t\" \"t\" \"h\" \"t\") (\"t\" \"t\" \"t\" \"h\") (\"t\" \"t\" \"t\" \"t\"))"
      ]
     },
     "execution_count": 53,
     "metadata": {},
     "output_type": "execute_result"
    }
   ],
   "source": [
    "(continuations 2 3)"
   ]
  },
  {
   "cell_type": "code",
   "execution_count": 55,
   "metadata": {},
   "outputs": [
    {
     "data": {
      "text/plain": [
       "11/16"
      ]
     },
     "execution_count": 55,
     "metadata": {},
     "output_type": "execute_result"
    }
   ],
   "source": [
    "(win-probability 2 3)"
   ]
  },
  {
   "cell_type": "markdown",
   "metadata": {},
   "source": [
    "## Probability Distributions"
   ]
  },
  {
   "cell_type": "code",
   "execution_count": 62,
   "metadata": {},
   "outputs": [
    {
     "data": {
      "text/plain": [
       "#'probability/make-prob-dist"
      ]
     },
     "execution_count": 62,
     "metadata": {},
     "output_type": "execute_result"
    }
   ],
   "source": [
    "(defn make-prob-dist\n",
    "  [probs]\n",
    "  (let [values (vals probs)\n",
    "        total  (apply + values)\n",
    "        dist (zipmap \n",
    "               (keys probs) \n",
    "               (map #(/ % total) values))]\n",
    "    (assert (every? #(>= % 0) (vals dist)))\n",
    "    dist))"
   ]
  },
  {
   "cell_type": "code",
   "execution_count": 110,
   "metadata": {},
   "outputs": [
    {
     "data": {
      "text/plain": [
       "#'probability/P"
      ]
     },
     "execution_count": 110,
     "metadata": {},
     "output_type": "execute_result"
    }
   ],
   "source": [
    "(defn P\n",
    "  [event space]\n",
    "  (cond\n",
    "    (and (fn? event)\n",
    "         (map? space)) (->> (filter event (keys space))\n",
    "                            (select-keys space)\n",
    "                            vals\n",
    "                            (apply +))\n",
    "    (fn? event) (/ (count (filter event space))\n",
    "                   (count space))\n",
    "    :else (/ (count (filter (set event) space))\n",
    "             (count space))))"
   ]
  },
  {
   "cell_type": "code",
   "execution_count": 111,
   "metadata": {},
   "outputs": [
    {
     "data": {
      "text/plain": [
       "{\"GG\" 121801/510902, \"GB\" 9060/36493, \"BG\" 127123/510902, \"BB\" 67569/255451}"
      ]
     },
     "execution_count": 111,
     "metadata": {},
     "output_type": "execute_result"
    }
   ],
   "source": [
    "(def DK\n",
    "  (make-prob-dist {\"GG\" 121801\n",
    "                   \"GB\" 126840\n",
    "                   \"BG\" 127123\n",
    "                   \"BB\" 135138}))\n",
    "\n",
    "DK"
   ]
  },
  {
   "cell_type": "code",
   "execution_count": 137,
   "metadata": {},
   "outputs": [
    {
     "data": {
      "text/plain": [
       "#'probability/make-pred"
      ]
     },
     "execution_count": 137,
     "metadata": {},
     "output_type": "execute_result"
    }
   ],
   "source": [
    "(defn make-pred\n",
    "  [pos sex]\n",
    "  (let [pos (if (= 0 pos)\n",
    "              [0 1]\n",
    "              [pos])]\n",
    "    (fn [k] \n",
    "      (= (apply subs k pos) sex))))"
   ]
  },
  {
   "cell_type": "code",
   "execution_count": 139,
   "metadata": {},
   "outputs": [
    {
     "data": {
      "text/plain": [
       "#'probability/first-girl?"
      ]
     },
     "execution_count": 139,
     "metadata": {},
     "output_type": "execute_result"
    }
   ],
   "source": [
    "(def first-girl?\n",
    "  (make-pred 0 \"G\"))"
   ]
  },
  {
   "cell_type": "code",
   "execution_count": 141,
   "metadata": {},
   "outputs": [
    {
     "data": {
      "text/plain": [
       "248641/510902"
      ]
     },
     "execution_count": 141,
     "metadata": {},
     "output_type": "execute_result"
    }
   ],
   "source": [
    "(P first-girl? DK)"
   ]
  },
  {
   "cell_type": "code",
   "execution_count": 142,
   "metadata": {},
   "outputs": [
    {
     "data": {
      "text/plain": [
       "248641/510902"
      ]
     },
     "execution_count": 142,
     "metadata": {},
     "output_type": "execute_result"
    }
   ],
   "source": [
    "(P (make-pred 0 \"G\") DK)"
   ]
  },
  {
   "cell_type": "code",
   "execution_count": 143,
   "metadata": {},
   "outputs": [
    {
     "data": {
      "text/plain": [
       "262261/510902"
      ]
     },
     "execution_count": 143,
     "metadata": {},
     "output_type": "execute_result"
    }
   ],
   "source": [
    "(P (make-pred 0 \"B\") DK)"
   ]
  },
  {
   "cell_type": "code",
   "execution_count": 145,
   "metadata": {},
   "outputs": [
    {
     "data": {
      "text/plain": [
       "1/2"
      ]
     },
     "execution_count": 145,
     "metadata": {},
     "output_type": "execute_result"
    }
   ],
   "source": [
    "(P (make-pred 1 \"G\") (filter first-girl? (keys DK)))"
   ]
  },
  {
   "cell_type": "code",
   "execution_count": 146,
   "metadata": {},
   "outputs": [
    {
     "data": {
      "text/plain": [
       "1/2"
      ]
     },
     "execution_count": 146,
     "metadata": {},
     "output_type": "execute_result"
    }
   ],
   "source": [
    "(P (make-pred 1 \"G\") (filter (make-pred 0 \"B\") (keys DK)))"
   ]
  },
  {
   "cell_type": "code",
   "execution_count": null,
   "metadata": {},
   "outputs": [],
   "source": []
  }
 ],
 "metadata": {
  "kernelspec": {
   "display_name": "Lein-Clojure",
   "language": "clojure",
   "name": "lein-clojure"
  },
  "language_info": {
   "file_extension": ".clj",
   "mimetype": "text/x-clojure",
   "name": "clojure",
   "version": "1.8.0"
  }
 },
 "nbformat": 4,
 "nbformat_minor": 2
}
